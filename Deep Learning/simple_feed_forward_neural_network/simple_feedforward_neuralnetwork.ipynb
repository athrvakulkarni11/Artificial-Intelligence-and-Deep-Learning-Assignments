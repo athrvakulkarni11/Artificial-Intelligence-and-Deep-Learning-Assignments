{
  "nbformat": 4,
  "nbformat_minor": 0,
  "metadata": {
    "colab": {
      "provenance": []
    },
    "kernelspec": {
      "name": "python3",
      "display_name": "Python 3"
    },
    "language_info": {
      "name": "python"
    }
  },
  "cells": [
    {
      "cell_type": "code",
      "source": [
        "import numpy as np\n",
        "import pandas as pd\n",
        "import tensorflow as tf\n",
        "from sklearn.model_selection import train_test_split"
      ],
      "metadata": {
        "id": "Ieazu5k8lQZV"
      },
      "execution_count": null,
      "outputs": []
    },
    {
      "cell_type": "code",
      "source": [
        "# Load training data\n",
        "df_train = pd.read_csv('/content/train.csv')"
      ],
      "metadata": {
        "id": "sM6xBkOglSjJ"
      },
      "execution_count": null,
      "outputs": []
    },
    {
      "cell_type": "code",
      "source": [
        "# Preprocess training data\n",
        "df_train = df_train.drop(columns=['PassengerId', 'Name', 'Ticket', 'Cabin'])\n",
        "df_train['Sex'] = df_train['Sex'].map({'female': 0, 'male': 1}).astype(int)\n",
        "df_train = pd.concat([df_train, pd.get_dummies(df_train['Embarked'], prefix='Embarked')], axis=1)\n",
        "df_train = df_train.drop(columns='Embarked')"
      ],
      "metadata": {
        "id": "N7EauF8klWiT"
      },
      "execution_count": null,
      "outputs": []
    },
    {
      "cell_type": "code",
      "source": [
        "# Handle missing values in 'Age'\n",
        "df_train['Age'] = df_train['Age'].fillna(df_train['Age'].mean())\n",
        "\n",
        "# Normalize 'Age' and 'Fare'\n",
        "age_mean = df_train['Age'].mean()\n",
        "age_std = df_train['Age'].std()\n",
        "df_train['Age'] = (df_train['Age'] - age_mean) / age_std\n",
        "\n",
        "fare_mean = df_train['Fare'].mean()\n",
        "fare_std = df_train['Fare'].std()\n",
        "df_train['Fare'] = (df_train['Fare'] - fare_mean) / fare_std\n",
        "\n",
        "# Prepare training data\n",
        "X_train = df_train.drop(columns='Survived')\n",
        "y_train = df_train['Survived']\n",
        "\n",
        "# Convert labels to one-hot encoding\n",
        "y_train = tf.keras.utils.to_categorical(y_train, num_classes=2)\n",
        "\n",
        "# Split the data\n",
        "X_train, X_test, y_train, y_test = train_test_split(X_train, y_train, test_size=0.2)\n",
        "\n",
        "# Convert data to numpy arrays and float32\n",
        "X_train = np.array(X_train, dtype=np.float32)\n",
        "y_train = np.array(y_train, dtype=np.float32)\n",
        "X_test = np.array(X_test, dtype=np.float32)\n",
        "y_test = np.array(y_test, dtype=np.float32)\n"
      ],
      "metadata": {
        "id": "Oe-2oULZlY1t"
      },
      "execution_count": null,
      "outputs": []
    },
    {
      "cell_type": "code",
      "source": [
        "\n",
        "# Define the model\n",
        "model = tf.keras.Sequential([\n",
        "    tf.keras.layers.Dense(128, activation='relu', input_shape=(X_train.shape[1],)),\n",
        "    tf.keras.layers.Dropout(0.5),  # Regularization\n",
        "    tf.keras.layers.Dense(256, activation='relu'),\n",
        "    tf.keras.layers.Dropout(0.5),\n",
        "    tf.keras.layers.Dense(2, activation='softmax')  # Output layer with softmax for probabilities\n",
        "])\n",
        "\n",
        "# Compile and train the model\n",
        "model.compile(loss='categorical_crossentropy', optimizer='adam', metrics=['accuracy'])\n",
        "model.fit(X_train, y_train, epochs=10, validation_data=(X_test, y_test))\n",
        "\n",
        "# Evaluate the model on test data\n",
        "loss, accuracy = model.evaluate(X_test, y_test)\n",
        "print(\"Test accuracy:\", accuracy * 100, \"%\")\n",
        "\n",
        "# Load test data\n",
        "df_test = pd.read_csv('/content/test.csv')\n",
        "\n",
        "# Preserve 'PassengerId' for final output\n",
        "passenger_ids = df_test['PassengerId']\n",
        "\n",
        "# Preprocess test data\n",
        "df_test = df_test.drop(columns=['Name', 'Ticket', 'Cabin'])\n",
        "df_test['Sex'] = df_test['Sex'].map({'female': 0, 'male': 1}).astype(int)\n",
        "df_test = pd.concat([df_test, pd.get_dummies(df_test['Embarked'], prefix='Embarked')], axis=1)\n",
        "df_test = df_test.drop(columns='Embarked')\n",
        "\n",
        "# Handle missing values in 'Age' and 'Fare'\n",
        "df_test['Age'] = df_test['Age'].fillna(age_mean)  # Use the mean from training data\n",
        "df_test['Fare'] = df_test['Fare'].fillna(fare_mean)  # Use the mean from training data\n",
        "\n",
        "# Normalize 'Age' and 'Fare'\n",
        "df_test['Age'] = (df_test['Age'] - age_mean) / age_std\n",
        "df_test['Fare'] = (df_test['Fare'] - fare_mean) / fare_std\n",
        "\n",
        "# Ensure the columns in test set match the training set\n",
        "train_columns = df_train.drop(columns='Survived').columns\n",
        "missing_cols = set(train_columns) - set(df_test.columns)\n",
        "for c in missing_cols:\n",
        "    df_test[c] = 0\n",
        "df_test = df_test[train_columns]\n",
        "\n",
        "# Convert test data to numpy array and float32\n",
        "X_test = np.array(df_test, dtype=np.float32)\n",
        "\n",
        "# Predict labels for test data\n",
        "predictions = model.predict(X_test)\n",
        "predicted_classes = np.argmax(predictions, axis=1)  # Get class indices\n",
        "\n",
        "# Create output for Kaggle submission\n",
        "output = pd.DataFrame()\n",
        "output['PassengerId'] = passenger_ids\n",
        "output['Survived'] = predicted_classes\n",
        "output.to_csv('./prediction.csv', index=False)\n",
        "\n",
        "# Close the TensorFlow session (optional, but good practice)\n",
        "tf.keras.backend.clear_session()"
      ],
      "metadata": {
        "colab": {
          "base_uri": "https://localhost:8080/"
        },
        "id": "m6_ptPGKlj0E",
        "outputId": "2166a750-9c9d-45ef-de83-98436754c84d"
      },
      "execution_count": null,
      "outputs": [
        {
          "output_type": "stream",
          "name": "stdout",
          "text": [
            "Epoch 1/10\n",
            "23/23 [==============================] - 1s 14ms/step - loss: 0.6243 - accuracy: 0.6461 - val_loss: 0.6174 - val_accuracy: 0.6369\n",
            "Epoch 2/10\n",
            "23/23 [==============================] - 0s 5ms/step - loss: 0.5919 - accuracy: 0.7121 - val_loss: 0.5727 - val_accuracy: 0.6872\n",
            "Epoch 3/10\n",
            "23/23 [==============================] - 0s 4ms/step - loss: 0.5349 - accuracy: 0.7261 - val_loss: 0.5137 - val_accuracy: 0.7207\n",
            "Epoch 4/10\n",
            "23/23 [==============================] - 0s 5ms/step - loss: 0.5332 - accuracy: 0.7612 - val_loss: 0.4935 - val_accuracy: 0.7654\n",
            "Epoch 5/10\n",
            "23/23 [==============================] - 0s 5ms/step - loss: 0.4977 - accuracy: 0.7865 - val_loss: 0.4917 - val_accuracy: 0.7765\n",
            "Epoch 6/10\n",
            "23/23 [==============================] - 0s 5ms/step - loss: 0.4813 - accuracy: 0.7907 - val_loss: 0.4642 - val_accuracy: 0.8212\n",
            "Epoch 7/10\n",
            "23/23 [==============================] - 0s 4ms/step - loss: 0.5028 - accuracy: 0.7781 - val_loss: 0.4973 - val_accuracy: 0.7709\n",
            "Epoch 8/10\n",
            "23/23 [==============================] - 0s 4ms/step - loss: 0.4710 - accuracy: 0.7949 - val_loss: 0.4663 - val_accuracy: 0.7933\n",
            "Epoch 9/10\n",
            "23/23 [==============================] - 0s 5ms/step - loss: 0.4546 - accuracy: 0.8160 - val_loss: 0.4486 - val_accuracy: 0.8268\n",
            "Epoch 10/10\n",
            "23/23 [==============================] - 0s 4ms/step - loss: 0.4743 - accuracy: 0.7935 - val_loss: 0.4531 - val_accuracy: 0.8324\n",
            "6/6 [==============================] - 0s 3ms/step - loss: 0.4531 - accuracy: 0.8324\n",
            "Test accuracy: 83.2402229309082 %\n",
            "14/14 [==============================] - 0s 2ms/step\n"
          ]
        }
      ]
    }
  ]
}